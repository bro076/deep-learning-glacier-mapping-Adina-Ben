{
 "cells": [
  {
   "cell_type": "markdown",
   "id": "5da2c5fa-d123-47b3-8de6-60468dedfa97",
   "metadata": {},
   "source": [
    "# Preprocessing"
   ]
  },
  {
   "cell_type": "markdown",
   "id": "1832248c-82ae-4182-9b44-ee12831e910e",
   "metadata": {},
   "source": [
    "### Open the Data in Python"
   ]
  },
  {
   "cell_type": "code",
   "execution_count": 2,
   "id": "5c71bae9-a74d-449b-a234-ca18a2cd517e",
   "metadata": {},
   "outputs": [],
   "source": [
    "import os\n",
    "import random\n",
    "import pandas as pd\n",
    "import numpy as np\n",
    "import matplotlib.pyplot as plt\n",
    "%matplotlib inline\n",
    "\n",
    "from osgeo import gdal\n",
    "import xarray as xr\n",
    "import rioxarray\n",
    "import geopandas as gpd\n",
    "from geocube.api.core import make_geocube\n",
    "import matplotlib.pyplot as plt"
   ]
  },
  {
   "cell_type": "markdown",
   "id": "3e387a75-9c1c-4a6b-8380-6b2b33b667b4",
   "metadata": {},
   "source": [
    "Following we define the path to our files"
   ]
  },
  {
   "cell_type": "code",
   "execution_count": 3,
   "id": "5716c01d-7a0a-4fb7-9e3f-edd80bb54e74",
   "metadata": {},
   "outputs": [],
   "source": [
    "path_to_data_files = 'path/goes/here'\n",
    "files = os.listdir(path_to_data_files)"
   ]
  },
  {
   "cell_type": "markdown",
   "id": "c7a61f96-3893-4655-8e68-bafb1842ea14",
   "metadata": {},
   "source": [
    "Next we open the raw images in python"
   ]
  },
  {
   "cell_type": "code",
   "execution_count": null,
   "id": "5116b060-1a89-4404-a4d3-d2bbaffa4fdd",
   "metadata": {},
   "outputs": [],
   "source": [
    "bands = ['B2', 'B3', 'B4', 'B5', 'B6', 'B7', 'B9', 'B10', 'B11']\n",
    "raw_images = {}\n",
    "\n",
    "for band in bands:\n",
    "    index = [idx for idx, s in enumerate(files) if f'{band}' in s][0]\n",
    "    raw_images[f'{band}_raw']=rioxarray.open_rasterio(path_to_data_files+files[index]) "
   ]
  },
  {
   "cell_type": "markdown",
   "id": "a20898e4-5bda-4ef5-8f19-c92eedf93c5e",
   "metadata": {},
   "source": [
    "**Important** Here we scale the images, and this is missing before we open the images"
   ]
  },
  {
   "cell_type": "code",
   "execution_count": 5,
   "id": "bb2dc22f-a90c-4bb5-85af-e89d34f9390e",
   "metadata": {},
   "outputs": [
    {
     "data": {
      "text/plain": [
       "Ellipsis"
      ]
     },
     "execution_count": 5,
     "metadata": {},
     "output_type": "execute_result"
    }
   ],
   "source": [
    "from sklearn.preprocessing import RobustScaler\n",
    "\n",
    "#create normed images here\n",
    "..."
   ]
  },
  {
   "cell_type": "markdown",
   "id": "9d1b9e07-88d2-439d-bb12-58a328f2a066",
   "metadata": {},
   "source": [
    "Next we open the masks as .shp files"
   ]
  },
  {
   "cell_type": "code",
   "execution_count": null,
   "id": "dbc6f793-c0dc-4666-92f2-9a7db2713467",
   "metadata": {},
   "outputs": [],
   "source": [
    "masks = ['name', 'of', 'various', 'masks', 'here']\n",
    "vector_masks = {}\n",
    "\n",
    "for mask in masks:\n",
    "    index = [idx for idx, s in enumerate(files) if f'{mask}' in s][0]\n",
    "    vector_masks[f'{mask}_vector']= gpd.read_file(path_to_data_files+files[index])"
   ]
  },
  {
   "cell_type": "markdown",
   "id": "e417cb41-cb54-4724-b427-18e903651c4a",
   "metadata": {},
   "source": [
    "Then we turn the masks into a binary xarray."
   ]
  },
  {
   "cell_type": "code",
   "execution_count": null,
   "id": "b43832b1-e601-47e3-8787-4aa1f4a5a18c",
   "metadata": {},
   "outputs": [],
   "source": [
    "binary_masks = {}\n",
    "\n",
    "for mask in masks:\n",
    "    binary_mask = make_geocube(vector_data=vector_masks[f'{mask}_vector'],\n",
    "        measurements=['value'], like = normed_images[f'B2_norm'],\n",
    "        fill=0\n",
    "    ).to_array().astype('int')"
   ]
  },
  {
   "cell_type": "code",
   "execution_count": null,
   "id": "eb3d1acb-c75c-430f-aaeb-2a401c26bf3f",
   "metadata": {},
   "outputs": [],
   "source": []
  }
 ],
 "metadata": {
  "kernelspec": {
   "display_name": "Python 3 (ipykernel)",
   "language": "python",
   "name": "python3"
  },
  "language_info": {
   "codemirror_mode": {
    "name": "ipython",
    "version": 3
   },
   "file_extension": ".py",
   "mimetype": "text/x-python",
   "name": "python",
   "nbconvert_exporter": "python",
   "pygments_lexer": "ipython3",
   "version": "3.9.13"
  }
 },
 "nbformat": 4,
 "nbformat_minor": 5
}
